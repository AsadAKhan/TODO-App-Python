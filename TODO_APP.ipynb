{
 "cells": [
  {
   "cell_type": "code",
   "execution_count": 51,
   "metadata": {},
   "outputs": [],
   "source": [
    "class todoApp():\n",
    "    def __init__(self, task = None, task_list = [], update_task = None):\n",
    "        self.task = task\n",
    "        self.update_task = update_task\n",
    "        self.task_list = task_list\n",
    "    def insert_item(self):\n",
    "        self.task_list.append(self.task.lower())\n",
    "        print(str(self.task.lower()) + ' Has Been Added To The List!')\n",
    "        print('Your Tasks List Now Looks Like This: ' + str(self.task_list))\n",
    "    def update_item(self):\n",
    "        try:\n",
    "            index = self.task_list.index(self.task.lower())\n",
    "            self.task_list[index] = self.update_task.lower()\n",
    "            print(str(self.task.lower()) + ' Has Been Updated With ' + str(self.update_task.lower()))\n",
    "            print('Your Tasks List Now Looks Like This: ' + str(self.task_list))\n",
    "        except:\n",
    "            print('Could Not Find Your Desired Value In The List!')\n",
    "    def delete_item(self):\n",
    "        try:\n",
    "            self.task_list.remove(self.task.lower())\n",
    "            print(str(self.task.lower()) + ' Has Been Removed From The List!')\n",
    "            print('Your Tasks List Now Looks Like This: ' + str(self.task_list))\n",
    "        except:\n",
    "            print('No Task Found To Be Deleted!')\n",
    "    def delete_all(self):\n",
    "        try:\n",
    "            del self.task_list[:]\n",
    "            print('All The Tasks Has Been Deleted From The List!')\n",
    "        except:\n",
    "            print('No Task Found To Be Deleted!')"
   ]
  },
  {
   "cell_type": "code",
   "execution_count": 59,
   "metadata": {},
   "outputs": [
    {
     "name": "stdout",
     "output_type": "stream",
     "text": [
      "What Do You Want To Do In Your List? For Insert Press I, For Update Press U, For Delete Press D, For Delete_All Press DA.d\n",
      "Your TODO List: ['running', 'eating', 'sleeping']\n",
      "Enter The Task You Want To Be Deleted: Sleeping\n",
      "sleeping Has Been Removed From The List!\n",
      "Your Tasks List Now Looks Like This: ['running', 'eating']\n"
     ]
    }
   ],
   "source": [
    "user_input = input('What Do You Want To Do In Your List? For Insert Press I, For Update Press U, For Delete Press D, For Delete_All Press DA.')\n",
    "if user_input.lower() == 'i':\n",
    "    input_task = input('Enter The Task You Want To Insert: ')\n",
    "    obj = todoApp(input_task)\n",
    "    obj.insert_item()\n",
    "elif user_input.lower() == 'u':\n",
    "    if not todoApp().task_list:\n",
    "        print('There Is No Task In The List To Be Updated!')\n",
    "    else:\n",
    "        print('Your TODO List: ' + str(todoApp().task_list))\n",
    "        input_task = input('Enter The Task You Want To Update: ')\n",
    "        if input_task.lower() in todoApp().task_list:\n",
    "            update_task = input('Enter The New Task: ')\n",
    "            obj = todoApp(task = input_task.lower(), update_task = update_task.lower())\n",
    "            obj.update_item()\n",
    "        else:\n",
    "            print(str(input_task) + ' Is Not In The List!')\n",
    "elif user_input.lower() == 'd':\n",
    "    if not todoApp().task_list:\n",
    "        print('There Is No Task In The List To Be Updated!')\n",
    "    else:\n",
    "        print('Your TODO List: ' + str(todoApp().task_list))\n",
    "        input_task = input('Enter The Task You Want To Be Deleted: ')\n",
    "        obj = todoApp(input_task.lower())\n",
    "        obj.delete_item()\n",
    "elif user_input.lower() == 'da':\n",
    "    if not todoApp().task_list:\n",
    "        print('There Is No Task In The List To Be Updated!')\n",
    "    else:\n",
    "        obj = todoApp()\n",
    "        obj.delete_all()\n",
    "else:\n",
    "    print('Wrong Input!')"
   ]
  },
  {
   "cell_type": "code",
   "execution_count": null,
   "metadata": {},
   "outputs": [],
   "source": []
  }
 ],
 "metadata": {
  "kernelspec": {
   "display_name": "Python 3",
   "language": "python",
   "name": "python3"
  },
  "language_info": {
   "codemirror_mode": {
    "name": "ipython",
    "version": 3
   },
   "file_extension": ".py",
   "mimetype": "text/x-python",
   "name": "python",
   "nbconvert_exporter": "python",
   "pygments_lexer": "ipython3",
   "version": "3.7.3"
  }
 },
 "nbformat": 4,
 "nbformat_minor": 2
}
